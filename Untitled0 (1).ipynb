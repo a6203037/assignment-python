{
  "cells": [
    {
      "cell_type": "markdown",
      "source": [
        "問題1: リストの合計を計算する関数\n",
        "\n",
        "\n"
      ],
      "metadata": {
        "id": "sRqx-WEetsVb"
      }
    },
    {
      "cell_type": "code",
      "source": [
        "def sum_list(numbers):\n",
        "  sum=0\n",
        "  for i in numbers:\n",
        "   sum +=i\n",
        "  return sum\n",
        "\n",
        "sum_list_num=([1,2,3,4,5])\n",
        "result=sum_list(sum_list_num)\n",
        "print(result)\n"
      ],
      "metadata": {
        "colab": {
          "base_uri": "https://localhost:8080/"
        },
        "id": "Isv4Y9jDtrbH",
        "outputId": "7463a92a-0622-42a9-834e-4e47cf686771"
      },
      "execution_count": null,
      "outputs": [
        {
          "output_type": "stream",
          "name": "stdout",
          "text": [
            "15\n"
          ]
        }
      ]
    },
    {
      "cell_type": "markdown",
      "source": [
        "問題2: 辞書の値をリストとして返す関数\n",
        "\n"
      ],
      "metadata": {
        "id": "gnNZk8uUt0pV"
      }
    },
    {
      "cell_type": "markdown",
      "source": [],
      "metadata": {
        "id": "iDHreV1at4yL"
      }
    },
    {
      "cell_type": "code",
      "source": [
        "\n",
        "def dict_values_to_list(data):\n",
        "    list_values=[]\n",
        "    for i in data.values():\n",
        "      list_values.append(i)\n",
        "    return list_values\n",
        "result = dict_values_to_list({\"a\": 1, \"b\": 2, \"c\": 3})\n",
        "print(result)\n",
        "\n"
      ],
      "metadata": {
        "colab": {
          "base_uri": "https://localhost:8080/"
        },
        "id": "5yY-fZHZt-gg",
        "outputId": "5638d0d7-2f2f-47d5-c144-4ea501af5c39"
      },
      "execution_count": null,
      "outputs": [
        {
          "output_type": "stream",
          "name": "stdout",
          "text": [
            "[1, 2, 3]\n"
          ]
        }
      ]
    },
    {
      "cell_type": "markdown",
      "source": [],
      "metadata": {
        "id": "XRU5oKSUt8rY"
      }
    },
    {
      "cell_type": "markdown",
      "source": [
        "問題3: 文字列リストから特定の文字で始まる単語を抽出する関数\n",
        "\n"
      ],
      "metadata": {
        "id": "zh3SqIRlt_H9"
      }
    },
    {
      "cell_type": "code",
      "source": [
        "def  filter_by_initial(word,inital):\n",
        "  result=[]\n",
        "  for i in word:\n",
        "    if i.startswith(inital):\n",
        "      result.append(i)\n",
        "  return result\n",
        "\n",
        "\n",
        "\n",
        "fruits=filter_by_initial([\"apple\", \"banana\", \"cherry\"], \"b\")\n",
        "print(fruits)\n"
      ],
      "metadata": {
        "colab": {
          "base_uri": "https://localhost:8080/"
        },
        "id": "ObIOMZkWuAqI",
        "outputId": "912c97c1-435a-4d6a-8417-4c9910e4a7fc"
      },
      "execution_count": null,
      "outputs": [
        {
          "output_type": "stream",
          "name": "stdout",
          "text": [
            "['banana']\n"
          ]
        }
      ]
    },
    {
      "cell_type": "markdown",
      "source": [
        "問題4: リスト内の偶数をカウントする関数\n",
        "\n"
      ],
      "metadata": {
        "id": "3PUZckRuuA_o"
      }
    },
    {
      "cell_type": "code",
      "source": [
        "def count_even_numbers(numbers):\n",
        "  count=0\n",
        "  for i in numbers:\n",
        "    if i%2==0:\n",
        "      count+=1\n",
        "  return count\n",
        "\n",
        "result=count_even_numbers([1, 2, 3, 4, 5, 6])\n",
        "print(result)"
      ],
      "metadata": {
        "colab": {
          "base_uri": "https://localhost:8080/"
        },
        "id": "vCCaW4sYuGzS",
        "outputId": "b83a8ffd-f169-4787-edc7-b4b5f353f68f"
      },
      "execution_count": null,
      "outputs": [
        {
          "output_type": "stream",
          "name": "stdout",
          "text": [
            "3\n"
          ]
        }
      ]
    },
    {
      "cell_type": "markdown",
      "source": [
        "問題5: 辞書のキーをリストとして返す関数\n",
        "\n"
      ],
      "metadata": {
        "id": "H0WlJN69uKJS"
      }
    },
    {
      "cell_type": "code",
      "source": [
        "def dict_keys_to_list(data):\n",
        "  key=[]\n",
        "  for i in data.keys():\n",
        "    key.append(i)\n",
        "  return key\n",
        "\n",
        "result=dict_keys_to_list({\"name\": \"Alice\", \"age\": 25})\n",
        "print(result)"
      ],
      "metadata": {
        "colab": {
          "base_uri": "https://localhost:8080/"
        },
        "id": "SQdiCGi_uLvU",
        "outputId": "d955d19c-5cc6-451e-f2cb-d509e3d2cc12"
      },
      "execution_count": null,
      "outputs": [
        {
          "output_type": "stream",
          "name": "stdout",
          "text": [
            "['name', 'age']\n"
          ]
        }
      ]
    },
    {
      "cell_type": "markdown",
      "source": [
        "問題6: リストの要素を逆順にする関数\n",
        "\n"
      ],
      "metadata": {
        "id": "ZrQbBgVzuO9J"
      }
    },
    {
      "cell_type": "code",
      "source": [
        "def reverse_list(items):\n",
        "  items_reverse=[]\n",
        "  for i in reversed(items):\n",
        "    items_reverse.append(i)\n",
        "\n",
        "  return items_reverse\n",
        "result=reverse_list([1, 2, 3, 4,])\n",
        "print(result)"
      ],
      "metadata": {
        "colab": {
          "base_uri": "https://localhost:8080/"
        },
        "id": "stypUafXALGV",
        "outputId": "3fd69b3c-9a7e-46b2-84ea-a60efa9cb191"
      },
      "execution_count": 23,
      "outputs": [
        {
          "output_type": "stream",
          "name": "stdout",
          "text": [
            "[4, 3, 2, 1]\n"
          ]
        }
      ]
    },
    {
      "cell_type": "markdown",
      "source": [
        "問題7: 辞書の値の合計を計算する関数\n",
        "\n"
      ],
      "metadata": {
        "id": "NucgzOuDuSi6"
      }
    },
    {
      "cell_type": "code",
      "source": [
        "def sum_dict_values(data):\n",
        " sum=0\n",
        " for i in data.values():\n",
        "  sum+=i\n",
        "\n",
        " return sum\n",
        "\n",
        "result=sum_dict_values ({\"a\": 10, \"b\": 20, \"c\": 30})\n",
        "print(result)"
      ],
      "metadata": {
        "id": "m0qlsGzbvqP9",
        "colab": {
          "base_uri": "https://localhost:8080/"
        },
        "outputId": "46829d2a-0be3-4a1b-f902-2dce96746706"
      },
      "execution_count": 9,
      "outputs": [
        {
          "output_type": "stream",
          "name": "stdout",
          "text": [
            "60\n"
          ]
        }
      ]
    },
    {
      "cell_type": "markdown",
      "source": [
        "問題8: 2つのリストを結合する関数\n",
        "\n"
      ],
      "metadata": {
        "id": "5aq3A7qpuZDF"
      }
    },
    {
      "cell_type": "code",
      "source": [
        "def  concat_lists(list1,list2):\n",
        "  return list1+ list2\n",
        "\n",
        "result=concat_lists([1, 2, 3], [4, 5, 6])\n",
        "\n",
        "print(result)\n"
      ],
      "metadata": {
        "id": "aQAYddskuYrl",
        "colab": {
          "base_uri": "https://localhost:8080/"
        },
        "outputId": "7ab0e00c-f2b7-4d0e-e144-fa2663e592c0"
      },
      "execution_count": 15,
      "outputs": [
        {
          "output_type": "stream",
          "name": "stdout",
          "text": [
            "[1, 2, 3, 4, 5, 6]\n"
          ]
        }
      ]
    },
    {
      "cell_type": "markdown",
      "source": [
        "問題9: 文字列リストの各要素を大文字に変換する関数\n",
        "\n"
      ],
      "metadata": {
        "id": "0N0AP83CucPh"
      }
    },
    {
      "cell_type": "code",
      "source": [
        "def uppercase_strings(words):\n",
        "  upper_word=[]\n",
        "  for i in words:\n",
        "    upper_word.append(i.upper())\n",
        "\n",
        "  return upper_word\n",
        "\n",
        "result=uppercase_strings([\"hello\", \"world\"])\n",
        "print(result)"
      ],
      "metadata": {
        "id": "1rCzWUgWukbH",
        "colab": {
          "base_uri": "https://localhost:8080/"
        },
        "outputId": "c4b7b338-dff3-41b5-b52d-2b22271e4195"
      },
      "execution_count": 16,
      "outputs": [
        {
          "output_type": "stream",
          "name": "stdout",
          "text": [
            "['HELLO', 'WORLD']\n"
          ]
        }
      ]
    },
    {
      "cell_type": "markdown",
      "source": [
        "問題10: リストから重複する要素を削除する関数\n",
        "\n"
      ],
      "metadata": {
        "id": "qsIQ10uwuktu"
      }
    },
    {
      "cell_type": "code",
      "source": [
        "def remove_duplicates(items):\n",
        "  return list(set(items))\n",
        "\n",
        "result=remove_duplicates([1, 2, 2, 3, 4, 4, 5])\n",
        "\n",
        "print(result)"
      ],
      "metadata": {
        "id": "WKwQId9DuoP4",
        "colab": {
          "base_uri": "https://localhost:8080/"
        },
        "outputId": "699756de-73e5-4f00-c4af-05d2fe55c94e"
      },
      "execution_count": 25,
      "outputs": [
        {
          "output_type": "stream",
          "name": "stdout",
          "text": [
            "[1, 2, 3, 4, 5]\n"
          ]
        }
      ]
    },
    {
      "cell_type": "markdown",
      "source": [
        "問題11: 辞書のキーを小文字に変換する関数\n",
        "\n"
      ],
      "metadata": {
        "id": "wsc0Shd8uohG"
      }
    },
    {
      "cell_type": "code",
      "source": [
        "def  lowercase_keys(data):\n",
        "  return  {k.lower():v for k,v in data.items()}\n",
        "result=lowercase_keys({\"Name\": \"Alice\", \"Age\": 25})\n",
        "print(result)"
      ],
      "metadata": {
        "id": "Bmw0oM80usqs",
        "colab": {
          "base_uri": "https://localhost:8080/"
        },
        "outputId": "cde29187-913a-4d2d-f87b-d7e93771e407"
      },
      "execution_count": 33,
      "outputs": [
        {
          "output_type": "stream",
          "name": "stdout",
          "text": [
            "{'name': 'Alice', 'age': 25}\n"
          ]
        }
      ]
    },
    {
      "cell_type": "markdown",
      "source": [],
      "metadata": {
        "id": "rSEGp2kpur9a"
      }
    },
    {
      "cell_type": "markdown",
      "source": [
        "問題12: 文字列リストをアルファベット順にソートする関数\n",
        "\n"
      ],
      "metadata": {
        "id": "9jCW3idqutNM"
      }
    },
    {
      "cell_type": "code",
      "source": [
        "def sort_strings(words):\n",
        "  return sorted(words)\n",
        "\n",
        "result=sort_strings([\"banana\", \"apple\", \"cherry\"])\n",
        "print(result)"
      ],
      "metadata": {
        "id": "3DvVUa3rux2f",
        "colab": {
          "base_uri": "https://localhost:8080/"
        },
        "outputId": "9384ea95-1458-4ab8-c43d-d9d66054145a"
      },
      "execution_count": 35,
      "outputs": [
        {
          "output_type": "stream",
          "name": "stdout",
          "text": [
            "['apple', 'banana', 'cherry']\n"
          ]
        }
      ]
    },
    {
      "cell_type": "markdown",
      "source": [
        "問題13: 辞書の特定のキーの値を取得する関数\n",
        "\n",
        "\n"
      ],
      "metadata": {
        "id": "ImCVpl2ru57J"
      }
    },
    {
      "cell_type": "code",
      "source": [
        "def get_dict_value(data,key):\n",
        "  return data.get(key)\n",
        "\n",
        "result=get_dict_value({\"name\": \"Alice\", \"age\": 25}, \"age\")\n",
        "print(result)\n",
        "\n"
      ],
      "metadata": {
        "id": "_qfbXprNvA-b",
        "colab": {
          "base_uri": "https://localhost:8080/"
        },
        "outputId": "ac6d4642-dc5a-45cb-dc4f-986ad5d09c7b"
      },
      "execution_count": 37,
      "outputs": [
        {
          "output_type": "stream",
          "name": "stdout",
          "text": [
            "25\n"
          ]
        }
      ]
    },
    {
      "cell_type": "markdown",
      "source": [
        "問題14: リストから特定の値をすべて削除する関数\n",
        "\n"
      ],
      "metadata": {
        "id": "PZmqa8uTvBYT"
      }
    },
    {
      "cell_type": "code",
      "source": [
        "def remove_all_occurrences(items,value):\n",
        "  return [i for i in items if i!=value]\n",
        "\n",
        "result=remove_all_occurrences([1, 2, 3, 2, 4, 2, 5], 2)\n",
        "print(result)\n",
        "\n"
      ],
      "metadata": {
        "id": "tnh3mFYHvHok",
        "colab": {
          "base_uri": "https://localhost:8080/"
        },
        "outputId": "4da05158-46b9-4e8d-8be9-dc23ac604536"
      },
      "execution_count": 38,
      "outputs": [
        {
          "output_type": "stream",
          "name": "stdout",
          "text": [
            "[1, 3, 4, 5]\n"
          ]
        }
      ]
    },
    {
      "cell_type": "markdown",
      "source": [
        "問題15: 辞書の値の最大値を返す関数\n",
        "\n"
      ],
      "metadata": {
        "id": "FMHBRw3BvJYN"
      }
    },
    {
      "cell_type": "code",
      "source": [
        "def max_dict_value(data):\n",
        "  return max(data.values())\n",
        "\n",
        "result=max_dict_value({\"a\": 10, \"b\": 20, \"c\": 30})\n",
        "print(result)"
      ],
      "metadata": {
        "id": "Mnl9RLygvN9U"
      },
      "execution_count": null,
      "outputs": []
    },
    {
      "cell_type": "markdown",
      "source": [
        "問題16: リストの要素を2倍にする関数\n",
        "\n"
      ],
      "metadata": {
        "id": "xuNlgrCEvOar"
      }
    },
    {
      "cell_type": "code",
      "source": [
        "def  double_elements(numbers):\n",
        "  return [i*2 for i in numbers]\n",
        "\n",
        "result=double_elements([1, 2, 3])\n",
        "print(result)"
      ],
      "metadata": {
        "id": "c8GA7AnIvRgh",
        "colab": {
          "base_uri": "https://localhost:8080/"
        },
        "outputId": "1115d08d-4b54-44c2-80ef-a4c2da5b5532"
      },
      "execution_count": 39,
      "outputs": [
        {
          "output_type": "stream",
          "name": "stdout",
          "text": [
            "[2, 4, 6]\n"
          ]
        }
      ]
    },
    {
      "cell_type": "markdown",
      "source": [
        "問題17: 辞書のキーと値を逆にする関数\n",
        "\n"
      ],
      "metadata": {
        "id": "hfwJsujuvR5m"
      }
    },
    {
      "cell_type": "code",
      "source": [
        "def  reverse_dict(data):\n",
        "  return {v:k for k,v in data.items()}\n",
        "\n",
        "result=reverse_dict({\"a\": 1, \"b\": 2, \"c\": 3})\n",
        "print(result)"
      ],
      "metadata": {
        "id": "FhOnnk9CvVR7",
        "colab": {
          "base_uri": "https://localhost:8080/"
        },
        "outputId": "731e1b71-e527-4834-ed9a-fd8f9003dd39"
      },
      "execution_count": 41,
      "outputs": [
        {
          "output_type": "stream",
          "name": "stdout",
          "text": [
            "{1: 'a', 2: 'b', 3: 'c'}\n"
          ]
        }
      ]
    },
    {
      "cell_type": "markdown",
      "source": [
        "問題18: 文字列リストから特定の文字を含む単語を抽出する関数\n",
        "\n"
      ],
      "metadata": {
        "id": "BY6mepgwvVkj"
      }
    },
    {
      "cell_type": "code",
      "source": [
        "def  filter_by_char(words,char):\n",
        "  return [i for i in words if char in i]\n",
        "\n",
        "result=filter_by_char([\"apple\", \"banana\", \"cherry\"], \"a\")\n",
        "print(result)"
      ],
      "metadata": {
        "id": "ahUThVF9vbZq",
        "colab": {
          "base_uri": "https://localhost:8080/"
        },
        "outputId": "7bbf7444-b86f-48f0-a680-d8c8e029fa3c"
      },
      "execution_count": 42,
      "outputs": [
        {
          "output_type": "stream",
          "name": "stdout",
          "text": [
            "['apple', 'banana']\n"
          ]
        }
      ]
    },
    {
      "cell_type": "markdown",
      "source": [
        "問題19: リストの要素の平均値を計算する関数\n",
        "\n"
      ],
      "metadata": {
        "id": "Wjkh_TRVvbqo"
      }
    },
    {
      "cell_type": "code",
      "source": [
        "def average_list(numbers):\n",
        "\n",
        "  total=sum(numbers)\n",
        "  length=len(numbers)\n",
        "  average=total/length\n",
        "\n",
        "  return average\n",
        "\n",
        "result=average_list([1, 2, 3, 4, 5])\n",
        "\n",
        "print(result)\n"
      ],
      "metadata": {
        "id": "aFbc4mgivf6_",
        "colab": {
          "base_uri": "https://localhost:8080/"
        },
        "outputId": "b1e7160b-8898-499c-ae55-6ea51f1c8954"
      },
      "execution_count": 49,
      "outputs": [
        {
          "output_type": "stream",
          "name": "stdout",
          "text": [
            "3.0\n"
          ]
        }
      ]
    },
    {
      "cell_type": "markdown",
      "source": [
        "問題20: 辞書のキーをリストにして返す関数\n",
        "\n"
      ],
      "metadata": {
        "id": "FhCVMv3EvgVR"
      }
    },
    {
      "cell_type": "code",
      "source": [
        "def dict_keys_to_list(data):\n",
        "  return list(data.keys())\n",
        "\n",
        "result=dict_keys_to_list({\"name\": \"Alice\", \"age\": 25})\n",
        "print(result)"
      ],
      "metadata": {
        "colab": {
          "base_uri": "https://localhost:8080/"
        },
        "id": "HnvyIoeBcqWU",
        "outputId": "a2d78310-1c18-4704-d519-b1fa0a922c62"
      },
      "execution_count": 50,
      "outputs": [
        {
          "output_type": "stream",
          "name": "stdout",
          "text": [
            "['name', 'age']\n"
          ]
        }
      ]
    }
  ],
  "metadata": {
    "colab": {
      "provenance": []
    },
    "kernelspec": {
      "display_name": "Python 3",
      "name": "python3"
    },
    "language_info": {
      "name": "python"
    }
  },
  "nbformat": 4,
  "nbformat_minor": 0
}